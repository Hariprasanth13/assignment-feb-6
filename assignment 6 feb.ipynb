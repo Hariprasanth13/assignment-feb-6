{
 "cells": [
  {
   "cell_type": "code",
   "execution_count": 1,
   "id": "b2779eac-cbb4-40c6-8975-28b3aefd2200",
   "metadata": {},
   "outputs": [],
   "source": [
    "list1 = [1,2,3,4, [44,55,66, True], False, (34,56,78,89,34), {1,2,3,3,2,1}, {1:34, \"key2\": [55, 67, 78, 89], 4: (45,\n",
    "22, 61, 34)}, [56, 'data science'], 'Machine Learning']"
   ]
  },
  {
   "cell_type": "code",
   "execution_count": 2,
   "id": "f4792538-b668-4a9f-ac48-cd6f2c62556c",
   "metadata": {},
   "outputs": [
    {
     "data": {
      "text/plain": [
       "[1,\n",
       " 2,\n",
       " 3,\n",
       " 4,\n",
       " [44, 55, 66, True],\n",
       " False,\n",
       " (34, 56, 78, 89, 34),\n",
       " {1, 2, 3},\n",
       " {1: 34, 'key2': [55, 67, 78, 89], 4: (45, 22, 61, 34)},\n",
       " [56, 'data science'],\n",
       " 'Machine Learning']"
      ]
     },
     "execution_count": 2,
     "metadata": {},
     "output_type": "execute_result"
    }
   ],
   "source": [
    "list1"
   ]
  },
  {
   "cell_type": "code",
   "execution_count": 29,
   "id": "0a961a63-247e-41f7-9566-9feec0724828",
   "metadata": {},
   "outputs": [],
   "source": [
    "from functools import reduce"
   ]
  },
  {
   "cell_type": "code",
   "execution_count": 32,
   "id": "85d731ae-f29d-4abe-97c2-fab182554386",
   "metadata": {},
   "outputs": [],
   "source": [
    "def lst_num(itr):\n",
    "    list2=[]\n",
    "    for i in itr:\n",
    "        if type(i)==int:\n",
    "            list2.append(i)\n",
    "    return list2\n",
    "\n",
    "def prd_lst(list1):\n",
    "    f_lst=[]\n",
    "    for i in list1:\n",
    "        if type(i)== int:\n",
    "            f_lst.append(i)\n",
    "        elif type(i)== list:\n",
    "            f_lst.extend(lst_num(i))\n",
    "        elif type(i)== tuple:\n",
    "            f_lst.extend(lst_num(i))\n",
    "        elif type(i)== set:\n",
    "            f_lst.extend(lst_num(i))\n",
    "        elif type(i)==dict:\n",
    "            keys=i.keys()\n",
    "            values=i.values()\n",
    "            f_lst.extend(lst_num(keys))\n",
    "            for j in values:\n",
    "                if type(j)== int:\n",
    "                    f_lst.append(j)\n",
    "                elif type(j)== list:\n",
    "                    f_lst.extend(lst_num(j))\n",
    "                elif type(j)== tuple:\n",
    "                    f_lst.extend(lst_num(j))\n",
    "                elif type(j)== set:\n",
    "                    f_lst.extend(lst_num(j))   \n",
    "    return reduce(lambda a,b: a*b,f_lst)"
   ]
  },
  {
   "cell_type": "code",
   "execution_count": 33,
   "id": "c00052a2-5939-4af5-afb8-844da9ae2284",
   "metadata": {},
   "outputs": [
    {
     "data": {
      "text/plain": [
       "4134711838987085478833841242112000"
      ]
     },
     "execution_count": 33,
     "metadata": {},
     "output_type": "execute_result"
    }
   ],
   "source": [
    "prd_lst(list1)"
   ]
  },
  {
   "cell_type": "markdown",
   "id": "734f344d-6e78-4444-aade-ee732d585282",
   "metadata": {},
   "source": [
    "2. Question"
   ]
  },
  {
   "cell_type": "code",
   "execution_count": 75,
   "id": "45f30d3c-6653-4eb3-92df-a00d1427abaa",
   "metadata": {},
   "outputs": [],
   "source": [
    "dic = {lst1[i]:lst2[i] for i in range(len(lst1))} # creating a dictionary using dictionary comprehension"
   ]
  },
  {
   "cell_type": "code",
   "execution_count": 94,
   "id": "ce7ff6e3-916e-4560-ba6a-bddf06eefbb3",
   "metadata": {},
   "outputs": [],
   "source": [
    "def encry(a):\n",
    "    str1=\"\"\n",
    "    sen=a.lower()\n",
    "    for i in sen:\n",
    "        if ord(i)>96 and ord(i)<123:\n",
    "            str1=str1+chr(dic.get(ord(i)))\n",
    "        elif i==\" \":\n",
    "            str1=str1+'$'\n",
    "        else:\n",
    "            str1=str1+i\n",
    "    print(str1)"
   ]
  },
  {
   "cell_type": "code",
   "execution_count": 96,
   "id": "1a4566ba-1986-4e77-af87-e723f0ec9404",
   "metadata": {},
   "outputs": [
    {
     "name": "stdout",
     "output_type": "stream",
     "text": [
      "r$dzmg$gl$yvxlnv$z$wzgz$hxrvmgrhg.\n"
     ]
    }
   ],
   "source": [
    "encry(\"I want to become a Data Scientist.\")"
   ]
  },
  {
   "cell_type": "code",
   "execution_count": null,
   "id": "1415b25f-3933-47ae-9c19-a83d8a9c57ce",
   "metadata": {},
   "outputs": [],
   "source": []
  }
 ],
 "metadata": {
  "kernelspec": {
   "display_name": "Python 3 (ipykernel)",
   "language": "python",
   "name": "python3"
  },
  "language_info": {
   "codemirror_mode": {
    "name": "ipython",
    "version": 3
   },
   "file_extension": ".py",
   "mimetype": "text/x-python",
   "name": "python",
   "nbconvert_exporter": "python",
   "pygments_lexer": "ipython3",
   "version": "3.10.8"
  }
 },
 "nbformat": 4,
 "nbformat_minor": 5
}
